{
 "cells": [
  {
   "cell_type": "code",
   "execution_count": null,
   "id": "6374385e",
   "metadata": {
    "execution": {
     "iopub.execute_input": "2023-07-24T15:30:13.572998Z",
     "iopub.status.busy": "2023-07-24T15:30:13.572597Z",
     "iopub.status.idle": "2023-07-24T15:30:15.381211Z",
     "shell.execute_reply": "2023-07-24T15:30:15.380287Z"
    },
    "papermill": {
     "duration": 1.819553,
     "end_time": "2023-07-24T15:30:15.383895",
     "exception": false,
     "start_time": "2023-07-24T15:30:13.564342",
     "status": "completed"
    },
    "tags": []
   },
   "outputs": [],
   "source": [
    "# Import necessary libraries\n",
    "import pandas as pd\n",
    "import numpy as np\n",
    "import re\n",
    "import nltk\n",
    "from nltk.corpus import stopwords\n",
    "from nltk.stem import PorterStemmer\n",
    "from sklearn.feature_extraction.text import TfidfVectorizer\n",
    "from sklearn.model_selection import train_test_split\n",
    "from sklearn.naive_bayes import MultinomialNB\n",
    "from sklearn.metrics import accuracy_score, classification_report, roc_auc_score"
   ]
  },
  {
   "cell_type": "code",
   "execution_count": null,
   "id": "5e833ad4",
   "metadata": {
    "execution": {
     "iopub.execute_input": "2023-07-24T15:30:15.399723Z",
     "iopub.status.busy": "2023-07-24T15:30:15.398673Z",
     "iopub.status.idle": "2023-07-24T15:30:15.405187Z",
     "shell.execute_reply": "2023-07-24T15:30:15.403882Z"
    },
    "papermill": {
     "duration": 0.016801,
     "end_time": "2023-07-24T15:30:15.407722",
     "exception": false,
     "start_time": "2023-07-24T15:30:15.390921",
     "status": "completed"
    },
    "tags": []
   },
   "outputs": [],
   "source": [
    "# Step 1: Data Preprocessing\n",
    "def preprocess_text(text):\n",
    "    # Remove URLs, special characters, and convert to lowercase\n",
    "    text = re.sub(r'http\\S+|www\\S+|https\\S+', '', text)\n",
    "    text = re.sub(r'[^a-zA-Z\\s]', '', text).lower()\n",
    "    return text"
   ]
  },
  {
   "cell_type": "code",
   "execution_count": null,
   "id": "035841f5",
   "metadata": {
    "execution": {
     "iopub.execute_input": "2023-07-24T15:30:15.422195Z",
     "iopub.status.busy": "2023-07-24T15:30:15.421704Z",
     "iopub.status.idle": "2023-07-24T15:30:15.506147Z",
     "shell.execute_reply": "2023-07-24T15:30:15.505119Z"
    },
    "papermill": {
     "duration": 0.09511,
     "end_time": "2023-07-24T15:30:15.509291",
     "exception": false,
     "start_time": "2023-07-24T15:30:15.414181",
     "status": "completed"
    },
    "tags": []
   },
   "outputs": [],
   "source": [
    "# Load train.csv and test.csv datasets\n",
    "train_df = pd.read_csv('/kaggle/input/nlp-getting-started/train.csv')\n",
    "test_df = pd.read_csv('/kaggle/input/nlp-getting-started/test.csv')"
   ]
  },
  {
   "cell_type": "code",
   "execution_count": null,
   "id": "533b20dc",
   "metadata": {
    "execution": {
     "iopub.execute_input": "2023-07-24T15:30:15.524138Z",
     "iopub.status.busy": "2023-07-24T15:30:15.523747Z",
     "iopub.status.idle": "2023-07-24T15:30:15.544475Z",
     "shell.execute_reply": "2023-07-24T15:30:15.543607Z"
    },
    "papermill": {
     "duration": 0.03097,
     "end_time": "2023-07-24T15:30:15.546745",
     "exception": false,
     "start_time": "2023-07-24T15:30:15.515775",
     "status": "completed"
    },
    "tags": []
   },
   "outputs": [],
   "source": [
    "train_df.head()"
   ]
  },
  {
   "cell_type": "code",
   "execution_count": null,
   "id": "48bf5e1e",
   "metadata": {
    "execution": {
     "iopub.execute_input": "2023-07-24T15:30:15.561517Z",
     "iopub.status.busy": "2023-07-24T15:30:15.561106Z",
     "iopub.status.idle": "2023-07-24T15:30:15.573087Z",
     "shell.execute_reply": "2023-07-24T15:30:15.571963Z"
    },
    "papermill": {
     "duration": 0.022391,
     "end_time": "2023-07-24T15:30:15.575718",
     "exception": false,
     "start_time": "2023-07-24T15:30:15.553327",
     "status": "completed"
    },
    "tags": []
   },
   "outputs": [],
   "source": [
    "# Handle missing values in 'keyword' and 'location' columns (if needed)\n",
    "train_df['keyword'].fillna('', inplace=True)\n",
    "train_df['location'].fillna('', inplace=True)\n",
    "test_df['keyword'].fillna('', inplace=True)\n",
    "test_df['location'].fillna('', inplace=True)"
   ]
  },
  {
   "cell_type": "code",
   "execution_count": null,
   "id": "3db92d3d",
   "metadata": {
    "execution": {
     "iopub.execute_input": "2023-07-24T15:30:15.591152Z",
     "iopub.status.busy": "2023-07-24T15:30:15.590744Z",
     "iopub.status.idle": "2023-07-24T15:30:15.603208Z",
     "shell.execute_reply": "2023-07-24T15:30:15.602087Z"
    },
    "papermill": {
     "duration": 0.022768,
     "end_time": "2023-07-24T15:30:15.605542",
     "exception": false,
     "start_time": "2023-07-24T15:30:15.582774",
     "status": "completed"
    },
    "tags": []
   },
   "outputs": [],
   "source": [
    "train_df.head()"
   ]
  },
  {
   "cell_type": "code",
   "execution_count": null,
   "id": "72de2b30",
   "metadata": {
    "execution": {
     "iopub.execute_input": "2023-07-24T15:30:15.623139Z",
     "iopub.status.busy": "2023-07-24T15:30:15.622447Z",
     "iopub.status.idle": "2023-07-24T15:30:15.752123Z",
     "shell.execute_reply": "2023-07-24T15:30:15.751182Z"
    },
    "papermill": {
     "duration": 0.140728,
     "end_time": "2023-07-24T15:30:15.754721",
     "exception": false,
     "start_time": "2023-07-24T15:30:15.613993",
     "status": "completed"
    },
    "tags": []
   },
   "outputs": [],
   "source": [
    "# Preprocess text data\n",
    "train_df['text'] = train_df['text'].apply(preprocess_text)\n",
    "test_df['text'] = test_df['text'].apply(preprocess_text)"
   ]
  },
  {
   "cell_type": "code",
   "execution_count": null,
   "id": "9920d3f8",
   "metadata": {
    "execution": {
     "iopub.execute_input": "2023-07-24T15:30:15.770730Z",
     "iopub.status.busy": "2023-07-24T15:30:15.769983Z",
     "iopub.status.idle": "2023-07-24T15:30:15.785938Z",
     "shell.execute_reply": "2023-07-24T15:30:15.784481Z"
    },
    "papermill": {
     "duration": 0.02692,
     "end_time": "2023-07-24T15:30:15.788633",
     "exception": false,
     "start_time": "2023-07-24T15:30:15.761713",
     "status": "completed"
    },
    "tags": []
   },
   "outputs": [],
   "source": [
    "# Step 2: Feature Engineering (if needed)\n",
    "# For example, you can create a 'tweet_length' feature\n",
    "train_df['tweet_length'] = train_df['text'].apply(len)\n",
    "test_df['tweet_length'] = test_df['text'].apply(len)"
   ]
  },
  {
   "cell_type": "code",
   "execution_count": null,
   "id": "6896fa53",
   "metadata": {
    "execution": {
     "iopub.execute_input": "2023-07-24T15:30:15.804891Z",
     "iopub.status.busy": "2023-07-24T15:30:15.804469Z",
     "iopub.status.idle": "2023-07-24T15:30:16.275515Z",
     "shell.execute_reply": "2023-07-24T15:30:16.274129Z"
    },
    "papermill": {
     "duration": 0.482688,
     "end_time": "2023-07-24T15:30:16.278374",
     "exception": false,
     "start_time": "2023-07-24T15:30:15.795686",
     "status": "completed"
    },
    "tags": []
   },
   "outputs": [],
   "source": [
    "# Step 3: Feature Representation\n",
    "# Convert text data into numerical vectors using TF-IDF\n",
    "tfidf_vectorizer = TfidfVectorizer(max_features=5000, stop_words=stopwords.words('english'))\n",
    "X = tfidf_vectorizer.fit_transform(train_df['text']).toarray()\n",
    "y = train_df['target']"
   ]
  },
  {
   "cell_type": "code",
   "execution_count": null,
   "id": "19083157",
   "metadata": {
    "execution": {
     "iopub.execute_input": "2023-07-24T15:30:16.293974Z",
     "iopub.status.busy": "2023-07-24T15:30:16.293519Z",
     "iopub.status.idle": "2023-07-24T15:30:16.482403Z",
     "shell.execute_reply": "2023-07-24T15:30:16.481164Z"
    },
    "papermill": {
     "duration": 0.200089,
     "end_time": "2023-07-24T15:30:16.485374",
     "exception": false,
     "start_time": "2023-07-24T15:30:16.285285",
     "status": "completed"
    },
    "tags": []
   },
   "outputs": [],
   "source": [
    "# Split data into training and validation sets\n",
    "X_train, X_val, y_train, y_val = train_test_split(X, y, test_size=0.2, random_state=42)"
   ]
  },
  {
   "cell_type": "code",
   "execution_count": null,
   "id": "df478aac",
   "metadata": {
    "execution": {
     "iopub.execute_input": "2023-07-24T15:30:16.500902Z",
     "iopub.status.busy": "2023-07-24T15:30:16.500474Z",
     "iopub.status.idle": "2023-07-24T15:30:16.615079Z",
     "shell.execute_reply": "2023-07-24T15:30:16.613568Z"
    },
    "papermill": {
     "duration": 0.127539,
     "end_time": "2023-07-24T15:30:16.619836",
     "exception": false,
     "start_time": "2023-07-24T15:30:16.492297",
     "status": "completed"
    },
    "tags": []
   },
   "outputs": [],
   "source": [
    "# Step 4: Model Training and Evaluation\n",
    "# Train a Naive Bayes classifier\n",
    "classifier = MultinomialNB()\n",
    "classifier.fit(X_train, y_train)"
   ]
  },
  {
   "cell_type": "code",
   "execution_count": null,
   "id": "d85cc4a5",
   "metadata": {
    "execution": {
     "iopub.execute_input": "2023-07-24T15:30:16.652213Z",
     "iopub.status.busy": "2023-07-24T15:30:16.651510Z",
     "iopub.status.idle": "2023-07-24T15:30:16.673506Z",
     "shell.execute_reply": "2023-07-24T15:30:16.671955Z"
    },
    "papermill": {
     "duration": 0.042958,
     "end_time": "2023-07-24T15:30:16.677718",
     "exception": false,
     "start_time": "2023-07-24T15:30:16.634760",
     "status": "completed"
    },
    "tags": []
   },
   "outputs": [],
   "source": [
    "# Make predictions on the validation set\n",
    "y_pred = classifier.predict(X_val)"
   ]
  },
  {
   "cell_type": "code",
   "execution_count": null,
   "id": "be0e10e3",
   "metadata": {
    "execution": {
     "iopub.execute_input": "2023-07-24T15:30:16.709992Z",
     "iopub.status.busy": "2023-07-24T15:30:16.709301Z",
     "iopub.status.idle": "2023-07-24T15:30:16.739970Z",
     "shell.execute_reply": "2023-07-24T15:30:16.738832Z"
    },
    "papermill": {
     "duration": 0.051293,
     "end_time": "2023-07-24T15:30:16.744060",
     "exception": false,
     "start_time": "2023-07-24T15:30:16.692767",
     "status": "completed"
    },
    "tags": []
   },
   "outputs": [],
   "source": [
    "# Evaluate the model\n",
    "accuracy = accuracy_score(y_val, y_pred)\n",
    "print(\"Validation Accuracy:\", accuracy)\n",
    "print(classification_report(y_val, y_pred))"
   ]
  },
  {
   "cell_type": "code",
   "execution_count": null,
   "id": "198bf9a6",
   "metadata": {
    "execution": {
     "iopub.execute_input": "2023-07-24T15:30:16.776384Z",
     "iopub.status.busy": "2023-07-24T15:30:16.775744Z",
     "iopub.status.idle": "2023-07-24T15:30:16.805372Z",
     "shell.execute_reply": "2023-07-24T15:30:16.804279Z"
    },
    "papermill": {
     "duration": 0.050261,
     "end_time": "2023-07-24T15:30:16.809240",
     "exception": false,
     "start_time": "2023-07-24T15:30:16.758979",
     "status": "completed"
    },
    "tags": []
   },
   "outputs": [],
   "source": [
    "# Calculate ROC-AUC score for the validation set\n",
    "roc_auc = roc_auc_score(y_val, classifier.predict_proba(X_val)[:, 1])\n",
    "print(\"ROC-AUC Score:\", roc_auc)"
   ]
  },
  {
   "cell_type": "code",
   "execution_count": null,
   "id": "524c4c8e",
   "metadata": {
    "execution": {
     "iopub.execute_input": "2023-07-24T15:30:16.842019Z",
     "iopub.status.busy": "2023-07-24T15:30:16.841317Z",
     "iopub.status.idle": "2023-07-24T15:30:17.064944Z",
     "shell.execute_reply": "2023-07-24T15:30:17.063350Z"
    },
    "papermill": {
     "duration": 0.243431,
     "end_time": "2023-07-24T15:30:17.067839",
     "exception": false,
     "start_time": "2023-07-24T15:30:16.824408",
     "status": "completed"
    },
    "tags": []
   },
   "outputs": [],
   "source": [
    "# Step 5: Make Predictions on Test Set\n",
    "# Convert text data in the test set into numerical vectors using TF-IDF\n",
    "X_test = tfidf_vectorizer.transform(test_df['text']).toarray()"
   ]
  },
  {
   "cell_type": "code",
   "execution_count": null,
   "id": "f9fdb395",
   "metadata": {
    "execution": {
     "iopub.execute_input": "2023-07-24T15:30:17.084501Z",
     "iopub.status.busy": "2023-07-24T15:30:17.084104Z",
     "iopub.status.idle": "2023-07-24T15:30:17.139173Z",
     "shell.execute_reply": "2023-07-24T15:30:17.137483Z"
    },
    "papermill": {
     "duration": 0.068397,
     "end_time": "2023-07-24T15:30:17.143728",
     "exception": false,
     "start_time": "2023-07-24T15:30:17.075331",
     "status": "completed"
    },
    "tags": []
   },
   "outputs": [],
   "source": [
    "# Make predictions on the test set\n",
    "test_df['target'] = classifier.predict(X_test)"
   ]
  },
  {
   "cell_type": "code",
   "execution_count": null,
   "id": "d10ddfcc",
   "metadata": {
    "execution": {
     "iopub.execute_input": "2023-07-24T15:30:17.178430Z",
     "iopub.status.busy": "2023-07-24T15:30:17.177773Z",
     "iopub.status.idle": "2023-07-24T15:30:17.213718Z",
     "shell.execute_reply": "2023-07-24T15:30:17.212105Z"
    },
    "papermill": {
     "duration": 0.058546,
     "end_time": "2023-07-24T15:30:17.218095",
     "exception": false,
     "start_time": "2023-07-24T15:30:17.159549",
     "status": "completed"
    },
    "tags": []
   },
   "outputs": [],
   "source": [
    "# Create the prediction output file containing id and target\n",
    "submission_df = test_df[['id', 'target']]\n",
    "submission_df.to_csv('submission.csv', index=False)"
   ]
  }
 ],
 "metadata": {
  "kernelspec": {
   "display_name": "Python 3",
   "language": "python",
   "name": "python3"
  },
  "language_info": {
   "codemirror_mode": {
    "name": "ipython",
    "version": 3
   },
   "file_extension": ".py",
   "mimetype": "text/x-python",
   "name": "python",
   "nbconvert_exporter": "python",
   "pygments_lexer": "ipython3",
   "version": "3.10.1"
  },
  "papermill": {
   "default_parameters": {},
   "duration": 16.284841,
   "end_time": "2023-07-24T15:30:18.264382",
   "environment_variables": {},
   "exception": null,
   "input_path": "__notebook__.ipynb",
   "output_path": "__notebook__.ipynb",
   "parameters": {},
   "start_time": "2023-07-24T15:30:01.979541",
   "version": "2.4.0"
  }
 },
 "nbformat": 4,
 "nbformat_minor": 5
}
